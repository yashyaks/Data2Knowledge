{
  "nbformat": 4,
  "nbformat_minor": 0,
  "metadata": {
    "colab": {
      "provenance": [],
      "authorship_tag": "ABX9TyMonuQnwVJkDkz9fXDzBHma",
      "include_colab_link": true
    },
    "kernelspec": {
      "name": "python3",
      "display_name": "Python 3"
    },
    "language_info": {
      "name": "python"
    }
  },
  "cells": [
    {
      "cell_type": "markdown",
      "metadata": {
        "id": "view-in-github",
        "colab_type": "text"
      },
      "source": [
        "<a href=\"https://colab.research.google.com/github/yashyaks/Data2Knowledge/blob/master/NIFTY50.ipynb\" target=\"_parent\"><img src=\"https://colab.research.google.com/assets/colab-badge.svg\" alt=\"Open In Colab\"/></a>"
      ]
    },
    {
      "cell_type": "code",
      "execution_count": 5,
      "metadata": {
        "id": "mjrDKkI0Ll8B"
      },
      "outputs": [],
      "source": [
        "import pandas as pd\n",
        "import numpy as np\n",
        "import matplotlib.pyplot as plt\n",
        "import seaborn as sns"
      ]
    },
    {
      "cell_type": "code",
      "source": [
        "stock_prices = pd.read_csv(\"/content/NIFTY 50.csv\")"
      ],
      "metadata": {
        "id": "mYQMnSDfe4KE"
      },
      "execution_count": 22,
      "outputs": []
    },
    {
      "cell_type": "code",
      "source": [
        "stock_prices"
      ],
      "metadata": {
        "colab": {
          "base_uri": "https://localhost:8080/",
          "height": 424
        },
        "id": "s3gA6kvAfLOK",
        "outputId": "0eb9b658-1cf9-45d7-f41a-8b33b3328c9f"
      },
      "execution_count": 23,
      "outputs": [
        {
          "output_type": "execute_result",
          "data": {
            "text/plain": [
              "            Date      Open      High       Low     Close     Volume  \\\n",
              "0     2000-01-03   1482.15   1592.90   1482.15   1592.20   25358322   \n",
              "1     2000-01-04   1594.40   1641.95   1594.40   1638.70   38787872   \n",
              "2     2000-01-05   1634.55   1635.50   1555.05   1595.80   62153431   \n",
              "3     2000-01-06   1595.80   1639.00   1595.80   1617.60   51272875   \n",
              "4     2000-01-07   1616.60   1628.25   1597.20   1613.30   54315945   \n",
              "...          ...       ...       ...       ...       ...        ...   \n",
              "5348  2021-07-01  15755.05  15755.55  15667.05  15680.00  224921644   \n",
              "5349  2021-07-02  15705.85  15738.35  15635.95  15722.20  254808999   \n",
              "5350  2021-07-05  15793.40  15845.95  15762.05  15834.35  207032153   \n",
              "5351  2021-07-06  15813.75  15914.20  15801.00  15818.25  391410742   \n",
              "5352  2021-07-07  15819.60  15893.55  15779.70  15879.65  329308646   \n",
              "\n",
              "          Turnover    P/E   P/B  Div Yield  \n",
              "0     8.841500e+09  25.91  4.63       0.95  \n",
              "1     1.973690e+10  26.67  4.76       0.92  \n",
              "2     3.084790e+10  25.97  4.64       0.95  \n",
              "3     2.531180e+10  26.32  4.70       0.94  \n",
              "4     1.914630e+10  26.25  4.69       0.94  \n",
              "...            ...    ...   ...        ...  \n",
              "5348  1.735997e+11  28.26  4.23       1.27  \n",
              "5349  1.801542e+11  28.33  4.24       1.23  \n",
              "5350  1.497654e+11  28.53  4.27       1.23  \n",
              "5351  2.445605e+11  28.50  4.26       1.10  \n",
              "5352  2.225996e+11  28.62  4.28       1.10  \n",
              "\n",
              "[5353 rows x 10 columns]"
            ],
            "text/html": [
              "\n",
              "  <div id=\"df-04186a6e-0e03-4c06-a45a-fc03dff08dc0\">\n",
              "    <div class=\"colab-df-container\">\n",
              "      <div>\n",
              "<style scoped>\n",
              "    .dataframe tbody tr th:only-of-type {\n",
              "        vertical-align: middle;\n",
              "    }\n",
              "\n",
              "    .dataframe tbody tr th {\n",
              "        vertical-align: top;\n",
              "    }\n",
              "\n",
              "    .dataframe thead th {\n",
              "        text-align: right;\n",
              "    }\n",
              "</style>\n",
              "<table border=\"1\" class=\"dataframe\">\n",
              "  <thead>\n",
              "    <tr style=\"text-align: right;\">\n",
              "      <th></th>\n",
              "      <th>Date</th>\n",
              "      <th>Open</th>\n",
              "      <th>High</th>\n",
              "      <th>Low</th>\n",
              "      <th>Close</th>\n",
              "      <th>Volume</th>\n",
              "      <th>Turnover</th>\n",
              "      <th>P/E</th>\n",
              "      <th>P/B</th>\n",
              "      <th>Div Yield</th>\n",
              "    </tr>\n",
              "  </thead>\n",
              "  <tbody>\n",
              "    <tr>\n",
              "      <th>0</th>\n",
              "      <td>2000-01-03</td>\n",
              "      <td>1482.15</td>\n",
              "      <td>1592.90</td>\n",
              "      <td>1482.15</td>\n",
              "      <td>1592.20</td>\n",
              "      <td>25358322</td>\n",
              "      <td>8.841500e+09</td>\n",
              "      <td>25.91</td>\n",
              "      <td>4.63</td>\n",
              "      <td>0.95</td>\n",
              "    </tr>\n",
              "    <tr>\n",
              "      <th>1</th>\n",
              "      <td>2000-01-04</td>\n",
              "      <td>1594.40</td>\n",
              "      <td>1641.95</td>\n",
              "      <td>1594.40</td>\n",
              "      <td>1638.70</td>\n",
              "      <td>38787872</td>\n",
              "      <td>1.973690e+10</td>\n",
              "      <td>26.67</td>\n",
              "      <td>4.76</td>\n",
              "      <td>0.92</td>\n",
              "    </tr>\n",
              "    <tr>\n",
              "      <th>2</th>\n",
              "      <td>2000-01-05</td>\n",
              "      <td>1634.55</td>\n",
              "      <td>1635.50</td>\n",
              "      <td>1555.05</td>\n",
              "      <td>1595.80</td>\n",
              "      <td>62153431</td>\n",
              "      <td>3.084790e+10</td>\n",
              "      <td>25.97</td>\n",
              "      <td>4.64</td>\n",
              "      <td>0.95</td>\n",
              "    </tr>\n",
              "    <tr>\n",
              "      <th>3</th>\n",
              "      <td>2000-01-06</td>\n",
              "      <td>1595.80</td>\n",
              "      <td>1639.00</td>\n",
              "      <td>1595.80</td>\n",
              "      <td>1617.60</td>\n",
              "      <td>51272875</td>\n",
              "      <td>2.531180e+10</td>\n",
              "      <td>26.32</td>\n",
              "      <td>4.70</td>\n",
              "      <td>0.94</td>\n",
              "    </tr>\n",
              "    <tr>\n",
              "      <th>4</th>\n",
              "      <td>2000-01-07</td>\n",
              "      <td>1616.60</td>\n",
              "      <td>1628.25</td>\n",
              "      <td>1597.20</td>\n",
              "      <td>1613.30</td>\n",
              "      <td>54315945</td>\n",
              "      <td>1.914630e+10</td>\n",
              "      <td>26.25</td>\n",
              "      <td>4.69</td>\n",
              "      <td>0.94</td>\n",
              "    </tr>\n",
              "    <tr>\n",
              "      <th>...</th>\n",
              "      <td>...</td>\n",
              "      <td>...</td>\n",
              "      <td>...</td>\n",
              "      <td>...</td>\n",
              "      <td>...</td>\n",
              "      <td>...</td>\n",
              "      <td>...</td>\n",
              "      <td>...</td>\n",
              "      <td>...</td>\n",
              "      <td>...</td>\n",
              "    </tr>\n",
              "    <tr>\n",
              "      <th>5348</th>\n",
              "      <td>2021-07-01</td>\n",
              "      <td>15755.05</td>\n",
              "      <td>15755.55</td>\n",
              "      <td>15667.05</td>\n",
              "      <td>15680.00</td>\n",
              "      <td>224921644</td>\n",
              "      <td>1.735997e+11</td>\n",
              "      <td>28.26</td>\n",
              "      <td>4.23</td>\n",
              "      <td>1.27</td>\n",
              "    </tr>\n",
              "    <tr>\n",
              "      <th>5349</th>\n",
              "      <td>2021-07-02</td>\n",
              "      <td>15705.85</td>\n",
              "      <td>15738.35</td>\n",
              "      <td>15635.95</td>\n",
              "      <td>15722.20</td>\n",
              "      <td>254808999</td>\n",
              "      <td>1.801542e+11</td>\n",
              "      <td>28.33</td>\n",
              "      <td>4.24</td>\n",
              "      <td>1.23</td>\n",
              "    </tr>\n",
              "    <tr>\n",
              "      <th>5350</th>\n",
              "      <td>2021-07-05</td>\n",
              "      <td>15793.40</td>\n",
              "      <td>15845.95</td>\n",
              "      <td>15762.05</td>\n",
              "      <td>15834.35</td>\n",
              "      <td>207032153</td>\n",
              "      <td>1.497654e+11</td>\n",
              "      <td>28.53</td>\n",
              "      <td>4.27</td>\n",
              "      <td>1.23</td>\n",
              "    </tr>\n",
              "    <tr>\n",
              "      <th>5351</th>\n",
              "      <td>2021-07-06</td>\n",
              "      <td>15813.75</td>\n",
              "      <td>15914.20</td>\n",
              "      <td>15801.00</td>\n",
              "      <td>15818.25</td>\n",
              "      <td>391410742</td>\n",
              "      <td>2.445605e+11</td>\n",
              "      <td>28.50</td>\n",
              "      <td>4.26</td>\n",
              "      <td>1.10</td>\n",
              "    </tr>\n",
              "    <tr>\n",
              "      <th>5352</th>\n",
              "      <td>2021-07-07</td>\n",
              "      <td>15819.60</td>\n",
              "      <td>15893.55</td>\n",
              "      <td>15779.70</td>\n",
              "      <td>15879.65</td>\n",
              "      <td>329308646</td>\n",
              "      <td>2.225996e+11</td>\n",
              "      <td>28.62</td>\n",
              "      <td>4.28</td>\n",
              "      <td>1.10</td>\n",
              "    </tr>\n",
              "  </tbody>\n",
              "</table>\n",
              "<p>5353 rows × 10 columns</p>\n",
              "</div>\n",
              "      <button class=\"colab-df-convert\" onclick=\"convertToInteractive('df-04186a6e-0e03-4c06-a45a-fc03dff08dc0')\"\n",
              "              title=\"Convert this dataframe to an interactive table.\"\n",
              "              style=\"display:none;\">\n",
              "        \n",
              "  <svg xmlns=\"http://www.w3.org/2000/svg\" height=\"24px\"viewBox=\"0 0 24 24\"\n",
              "       width=\"24px\">\n",
              "    <path d=\"M0 0h24v24H0V0z\" fill=\"none\"/>\n",
              "    <path d=\"M18.56 5.44l.94 2.06.94-2.06 2.06-.94-2.06-.94-.94-2.06-.94 2.06-2.06.94zm-11 1L8.5 8.5l.94-2.06 2.06-.94-2.06-.94L8.5 2.5l-.94 2.06-2.06.94zm10 10l.94 2.06.94-2.06 2.06-.94-2.06-.94-.94-2.06-.94 2.06-2.06.94z\"/><path d=\"M17.41 7.96l-1.37-1.37c-.4-.4-.92-.59-1.43-.59-.52 0-1.04.2-1.43.59L10.3 9.45l-7.72 7.72c-.78.78-.78 2.05 0 2.83L4 21.41c.39.39.9.59 1.41.59.51 0 1.02-.2 1.41-.59l7.78-7.78 2.81-2.81c.8-.78.8-2.07 0-2.86zM5.41 20L4 18.59l7.72-7.72 1.47 1.35L5.41 20z\"/>\n",
              "  </svg>\n",
              "      </button>\n",
              "      \n",
              "  <style>\n",
              "    .colab-df-container {\n",
              "      display:flex;\n",
              "      flex-wrap:wrap;\n",
              "      gap: 12px;\n",
              "    }\n",
              "\n",
              "    .colab-df-convert {\n",
              "      background-color: #E8F0FE;\n",
              "      border: none;\n",
              "      border-radius: 50%;\n",
              "      cursor: pointer;\n",
              "      display: none;\n",
              "      fill: #1967D2;\n",
              "      height: 32px;\n",
              "      padding: 0 0 0 0;\n",
              "      width: 32px;\n",
              "    }\n",
              "\n",
              "    .colab-df-convert:hover {\n",
              "      background-color: #E2EBFA;\n",
              "      box-shadow: 0px 1px 2px rgba(60, 64, 67, 0.3), 0px 1px 3px 1px rgba(60, 64, 67, 0.15);\n",
              "      fill: #174EA6;\n",
              "    }\n",
              "\n",
              "    [theme=dark] .colab-df-convert {\n",
              "      background-color: #3B4455;\n",
              "      fill: #D2E3FC;\n",
              "    }\n",
              "\n",
              "    [theme=dark] .colab-df-convert:hover {\n",
              "      background-color: #434B5C;\n",
              "      box-shadow: 0px 1px 3px 1px rgba(0, 0, 0, 0.15);\n",
              "      filter: drop-shadow(0px 1px 2px rgba(0, 0, 0, 0.3));\n",
              "      fill: #FFFFFF;\n",
              "    }\n",
              "  </style>\n",
              "\n",
              "      <script>\n",
              "        const buttonEl =\n",
              "          document.querySelector('#df-04186a6e-0e03-4c06-a45a-fc03dff08dc0 button.colab-df-convert');\n",
              "        buttonEl.style.display =\n",
              "          google.colab.kernel.accessAllowed ? 'block' : 'none';\n",
              "\n",
              "        async function convertToInteractive(key) {\n",
              "          const element = document.querySelector('#df-04186a6e-0e03-4c06-a45a-fc03dff08dc0');\n",
              "          const dataTable =\n",
              "            await google.colab.kernel.invokeFunction('convertToInteractive',\n",
              "                                                     [key], {});\n",
              "          if (!dataTable) return;\n",
              "\n",
              "          const docLinkHtml = 'Like what you see? Visit the ' +\n",
              "            '<a target=\"_blank\" href=https://colab.research.google.com/notebooks/data_table.ipynb>data table notebook</a>'\n",
              "            + ' to learn more about interactive tables.';\n",
              "          element.innerHTML = '';\n",
              "          dataTable['output_type'] = 'display_data';\n",
              "          await google.colab.output.renderOutput(dataTable, element);\n",
              "          const docLink = document.createElement('div');\n",
              "          docLink.innerHTML = docLinkHtml;\n",
              "          element.appendChild(docLink);\n",
              "        }\n",
              "      </script>\n",
              "    </div>\n",
              "  </div>\n",
              "  "
            ]
          },
          "metadata": {},
          "execution_count": 23
        }
      ]
    },
    {
      "cell_type": "code",
      "source": [
        "stock_prices.rename(columns = {'Date':'index'}, inplace = True)\n",
        "stock_prices.rename(columns = {'Open':'open'}, inplace = True)\n",
        "stock_prices.rename(columns = {'High':'high'}, inplace = True)\n",
        "stock_prices.rename(columns = {'Low':'low'}, inplace = True)\n",
        "stock_prices.rename(columns = {'Close':'close'}, inplace = True)"
      ],
      "metadata": {
        "id": "GjoVPfDVf_pL"
      },
      "execution_count": 24,
      "outputs": []
    },
    {
      "cell_type": "code",
      "source": [
        "stock_prices['index']=pd.to_datetime(stock_prices['index'])\n",
        "print(stock_prices)"
      ],
      "metadata": {
        "colab": {
          "base_uri": "https://localhost:8080/"
        },
        "id": "IBWyfPwpjJbu",
        "outputId": "2367a745-3bc3-49ed-8663-5617f43096a5"
      },
      "execution_count": 30,
      "outputs": [
        {
          "output_type": "stream",
          "name": "stdout",
          "text": [
            "          index      open      high       low     close     Volume  \\\n",
            "0    2000-01-03   1482.15   1592.90   1482.15   1592.20   25358322   \n",
            "1    2000-01-04   1594.40   1641.95   1594.40   1638.70   38787872   \n",
            "2    2000-01-05   1634.55   1635.50   1555.05   1595.80   62153431   \n",
            "3    2000-01-06   1595.80   1639.00   1595.80   1617.60   51272875   \n",
            "4    2000-01-07   1616.60   1628.25   1597.20   1613.30   54315945   \n",
            "...         ...       ...       ...       ...       ...        ...   \n",
            "5348 2021-07-01  15755.05  15755.55  15667.05  15680.00  224921644   \n",
            "5349 2021-07-02  15705.85  15738.35  15635.95  15722.20  254808999   \n",
            "5350 2021-07-05  15793.40  15845.95  15762.05  15834.35  207032153   \n",
            "5351 2021-07-06  15813.75  15914.20  15801.00  15818.25  391410742   \n",
            "5352 2021-07-07  15819.60  15893.55  15779.70  15879.65  329308646   \n",
            "\n",
            "          Turnover    P/E   P/B  Div Yield  \n",
            "0     8.841500e+09  25.91  4.63       0.95  \n",
            "1     1.973690e+10  26.67  4.76       0.92  \n",
            "2     3.084790e+10  25.97  4.64       0.95  \n",
            "3     2.531180e+10  26.32  4.70       0.94  \n",
            "4     1.914630e+10  26.25  4.69       0.94  \n",
            "...            ...    ...   ...        ...  \n",
            "5348  1.735997e+11  28.26  4.23       1.27  \n",
            "5349  1.801542e+11  28.33  4.24       1.23  \n",
            "5350  1.497654e+11  28.53  4.27       1.23  \n",
            "5351  2.445605e+11  28.50  4.26       1.10  \n",
            "5352  2.225996e+11  28.62  4.28       1.10  \n",
            "\n",
            "[5353 rows x 10 columns]\n"
          ]
        }
      ]
    },
    {
      "cell_type": "code",
      "source": [
        "stock_prices"
      ],
      "metadata": {
        "colab": {
          "base_uri": "https://localhost:8080/",
          "height": 424
        },
        "id": "LtI602wOgcml",
        "outputId": "5c3d797d-f934-4a21-d4bd-f888ce6da3f5"
      },
      "execution_count": 31,
      "outputs": [
        {
          "output_type": "execute_result",
          "data": {
            "text/plain": [
              "          index      open      high       low     close     Volume  \\\n",
              "0    2000-01-03   1482.15   1592.90   1482.15   1592.20   25358322   \n",
              "1    2000-01-04   1594.40   1641.95   1594.40   1638.70   38787872   \n",
              "2    2000-01-05   1634.55   1635.50   1555.05   1595.80   62153431   \n",
              "3    2000-01-06   1595.80   1639.00   1595.80   1617.60   51272875   \n",
              "4    2000-01-07   1616.60   1628.25   1597.20   1613.30   54315945   \n",
              "...         ...       ...       ...       ...       ...        ...   \n",
              "5348 2021-07-01  15755.05  15755.55  15667.05  15680.00  224921644   \n",
              "5349 2021-07-02  15705.85  15738.35  15635.95  15722.20  254808999   \n",
              "5350 2021-07-05  15793.40  15845.95  15762.05  15834.35  207032153   \n",
              "5351 2021-07-06  15813.75  15914.20  15801.00  15818.25  391410742   \n",
              "5352 2021-07-07  15819.60  15893.55  15779.70  15879.65  329308646   \n",
              "\n",
              "          Turnover    P/E   P/B  Div Yield  \n",
              "0     8.841500e+09  25.91  4.63       0.95  \n",
              "1     1.973690e+10  26.67  4.76       0.92  \n",
              "2     3.084790e+10  25.97  4.64       0.95  \n",
              "3     2.531180e+10  26.32  4.70       0.94  \n",
              "4     1.914630e+10  26.25  4.69       0.94  \n",
              "...            ...    ...   ...        ...  \n",
              "5348  1.735997e+11  28.26  4.23       1.27  \n",
              "5349  1.801542e+11  28.33  4.24       1.23  \n",
              "5350  1.497654e+11  28.53  4.27       1.23  \n",
              "5351  2.445605e+11  28.50  4.26       1.10  \n",
              "5352  2.225996e+11  28.62  4.28       1.10  \n",
              "\n",
              "[5353 rows x 10 columns]"
            ],
            "text/html": [
              "\n",
              "  <div id=\"df-e9af19ba-8bde-4ca9-b07a-c9b8fc13923c\">\n",
              "    <div class=\"colab-df-container\">\n",
              "      <div>\n",
              "<style scoped>\n",
              "    .dataframe tbody tr th:only-of-type {\n",
              "        vertical-align: middle;\n",
              "    }\n",
              "\n",
              "    .dataframe tbody tr th {\n",
              "        vertical-align: top;\n",
              "    }\n",
              "\n",
              "    .dataframe thead th {\n",
              "        text-align: right;\n",
              "    }\n",
              "</style>\n",
              "<table border=\"1\" class=\"dataframe\">\n",
              "  <thead>\n",
              "    <tr style=\"text-align: right;\">\n",
              "      <th></th>\n",
              "      <th>index</th>\n",
              "      <th>open</th>\n",
              "      <th>high</th>\n",
              "      <th>low</th>\n",
              "      <th>close</th>\n",
              "      <th>Volume</th>\n",
              "      <th>Turnover</th>\n",
              "      <th>P/E</th>\n",
              "      <th>P/B</th>\n",
              "      <th>Div Yield</th>\n",
              "    </tr>\n",
              "  </thead>\n",
              "  <tbody>\n",
              "    <tr>\n",
              "      <th>0</th>\n",
              "      <td>2000-01-03</td>\n",
              "      <td>1482.15</td>\n",
              "      <td>1592.90</td>\n",
              "      <td>1482.15</td>\n",
              "      <td>1592.20</td>\n",
              "      <td>25358322</td>\n",
              "      <td>8.841500e+09</td>\n",
              "      <td>25.91</td>\n",
              "      <td>4.63</td>\n",
              "      <td>0.95</td>\n",
              "    </tr>\n",
              "    <tr>\n",
              "      <th>1</th>\n",
              "      <td>2000-01-04</td>\n",
              "      <td>1594.40</td>\n",
              "      <td>1641.95</td>\n",
              "      <td>1594.40</td>\n",
              "      <td>1638.70</td>\n",
              "      <td>38787872</td>\n",
              "      <td>1.973690e+10</td>\n",
              "      <td>26.67</td>\n",
              "      <td>4.76</td>\n",
              "      <td>0.92</td>\n",
              "    </tr>\n",
              "    <tr>\n",
              "      <th>2</th>\n",
              "      <td>2000-01-05</td>\n",
              "      <td>1634.55</td>\n",
              "      <td>1635.50</td>\n",
              "      <td>1555.05</td>\n",
              "      <td>1595.80</td>\n",
              "      <td>62153431</td>\n",
              "      <td>3.084790e+10</td>\n",
              "      <td>25.97</td>\n",
              "      <td>4.64</td>\n",
              "      <td>0.95</td>\n",
              "    </tr>\n",
              "    <tr>\n",
              "      <th>3</th>\n",
              "      <td>2000-01-06</td>\n",
              "      <td>1595.80</td>\n",
              "      <td>1639.00</td>\n",
              "      <td>1595.80</td>\n",
              "      <td>1617.60</td>\n",
              "      <td>51272875</td>\n",
              "      <td>2.531180e+10</td>\n",
              "      <td>26.32</td>\n",
              "      <td>4.70</td>\n",
              "      <td>0.94</td>\n",
              "    </tr>\n",
              "    <tr>\n",
              "      <th>4</th>\n",
              "      <td>2000-01-07</td>\n",
              "      <td>1616.60</td>\n",
              "      <td>1628.25</td>\n",
              "      <td>1597.20</td>\n",
              "      <td>1613.30</td>\n",
              "      <td>54315945</td>\n",
              "      <td>1.914630e+10</td>\n",
              "      <td>26.25</td>\n",
              "      <td>4.69</td>\n",
              "      <td>0.94</td>\n",
              "    </tr>\n",
              "    <tr>\n",
              "      <th>...</th>\n",
              "      <td>...</td>\n",
              "      <td>...</td>\n",
              "      <td>...</td>\n",
              "      <td>...</td>\n",
              "      <td>...</td>\n",
              "      <td>...</td>\n",
              "      <td>...</td>\n",
              "      <td>...</td>\n",
              "      <td>...</td>\n",
              "      <td>...</td>\n",
              "    </tr>\n",
              "    <tr>\n",
              "      <th>5348</th>\n",
              "      <td>2021-07-01</td>\n",
              "      <td>15755.05</td>\n",
              "      <td>15755.55</td>\n",
              "      <td>15667.05</td>\n",
              "      <td>15680.00</td>\n",
              "      <td>224921644</td>\n",
              "      <td>1.735997e+11</td>\n",
              "      <td>28.26</td>\n",
              "      <td>4.23</td>\n",
              "      <td>1.27</td>\n",
              "    </tr>\n",
              "    <tr>\n",
              "      <th>5349</th>\n",
              "      <td>2021-07-02</td>\n",
              "      <td>15705.85</td>\n",
              "      <td>15738.35</td>\n",
              "      <td>15635.95</td>\n",
              "      <td>15722.20</td>\n",
              "      <td>254808999</td>\n",
              "      <td>1.801542e+11</td>\n",
              "      <td>28.33</td>\n",
              "      <td>4.24</td>\n",
              "      <td>1.23</td>\n",
              "    </tr>\n",
              "    <tr>\n",
              "      <th>5350</th>\n",
              "      <td>2021-07-05</td>\n",
              "      <td>15793.40</td>\n",
              "      <td>15845.95</td>\n",
              "      <td>15762.05</td>\n",
              "      <td>15834.35</td>\n",
              "      <td>207032153</td>\n",
              "      <td>1.497654e+11</td>\n",
              "      <td>28.53</td>\n",
              "      <td>4.27</td>\n",
              "      <td>1.23</td>\n",
              "    </tr>\n",
              "    <tr>\n",
              "      <th>5351</th>\n",
              "      <td>2021-07-06</td>\n",
              "      <td>15813.75</td>\n",
              "      <td>15914.20</td>\n",
              "      <td>15801.00</td>\n",
              "      <td>15818.25</td>\n",
              "      <td>391410742</td>\n",
              "      <td>2.445605e+11</td>\n",
              "      <td>28.50</td>\n",
              "      <td>4.26</td>\n",
              "      <td>1.10</td>\n",
              "    </tr>\n",
              "    <tr>\n",
              "      <th>5352</th>\n",
              "      <td>2021-07-07</td>\n",
              "      <td>15819.60</td>\n",
              "      <td>15893.55</td>\n",
              "      <td>15779.70</td>\n",
              "      <td>15879.65</td>\n",
              "      <td>329308646</td>\n",
              "      <td>2.225996e+11</td>\n",
              "      <td>28.62</td>\n",
              "      <td>4.28</td>\n",
              "      <td>1.10</td>\n",
              "    </tr>\n",
              "  </tbody>\n",
              "</table>\n",
              "<p>5353 rows × 10 columns</p>\n",
              "</div>\n",
              "      <button class=\"colab-df-convert\" onclick=\"convertToInteractive('df-e9af19ba-8bde-4ca9-b07a-c9b8fc13923c')\"\n",
              "              title=\"Convert this dataframe to an interactive table.\"\n",
              "              style=\"display:none;\">\n",
              "        \n",
              "  <svg xmlns=\"http://www.w3.org/2000/svg\" height=\"24px\"viewBox=\"0 0 24 24\"\n",
              "       width=\"24px\">\n",
              "    <path d=\"M0 0h24v24H0V0z\" fill=\"none\"/>\n",
              "    <path d=\"M18.56 5.44l.94 2.06.94-2.06 2.06-.94-2.06-.94-.94-2.06-.94 2.06-2.06.94zm-11 1L8.5 8.5l.94-2.06 2.06-.94-2.06-.94L8.5 2.5l-.94 2.06-2.06.94zm10 10l.94 2.06.94-2.06 2.06-.94-2.06-.94-.94-2.06-.94 2.06-2.06.94z\"/><path d=\"M17.41 7.96l-1.37-1.37c-.4-.4-.92-.59-1.43-.59-.52 0-1.04.2-1.43.59L10.3 9.45l-7.72 7.72c-.78.78-.78 2.05 0 2.83L4 21.41c.39.39.9.59 1.41.59.51 0 1.02-.2 1.41-.59l7.78-7.78 2.81-2.81c.8-.78.8-2.07 0-2.86zM5.41 20L4 18.59l7.72-7.72 1.47 1.35L5.41 20z\"/>\n",
              "  </svg>\n",
              "      </button>\n",
              "      \n",
              "  <style>\n",
              "    .colab-df-container {\n",
              "      display:flex;\n",
              "      flex-wrap:wrap;\n",
              "      gap: 12px;\n",
              "    }\n",
              "\n",
              "    .colab-df-convert {\n",
              "      background-color: #E8F0FE;\n",
              "      border: none;\n",
              "      border-radius: 50%;\n",
              "      cursor: pointer;\n",
              "      display: none;\n",
              "      fill: #1967D2;\n",
              "      height: 32px;\n",
              "      padding: 0 0 0 0;\n",
              "      width: 32px;\n",
              "    }\n",
              "\n",
              "    .colab-df-convert:hover {\n",
              "      background-color: #E2EBFA;\n",
              "      box-shadow: 0px 1px 2px rgba(60, 64, 67, 0.3), 0px 1px 3px 1px rgba(60, 64, 67, 0.15);\n",
              "      fill: #174EA6;\n",
              "    }\n",
              "\n",
              "    [theme=dark] .colab-df-convert {\n",
              "      background-color: #3B4455;\n",
              "      fill: #D2E3FC;\n",
              "    }\n",
              "\n",
              "    [theme=dark] .colab-df-convert:hover {\n",
              "      background-color: #434B5C;\n",
              "      box-shadow: 0px 1px 3px 1px rgba(0, 0, 0, 0.15);\n",
              "      filter: drop-shadow(0px 1px 2px rgba(0, 0, 0, 0.3));\n",
              "      fill: #FFFFFF;\n",
              "    }\n",
              "  </style>\n",
              "\n",
              "      <script>\n",
              "        const buttonEl =\n",
              "          document.querySelector('#df-e9af19ba-8bde-4ca9-b07a-c9b8fc13923c button.colab-df-convert');\n",
              "        buttonEl.style.display =\n",
              "          google.colab.kernel.accessAllowed ? 'block' : 'none';\n",
              "\n",
              "        async function convertToInteractive(key) {\n",
              "          const element = document.querySelector('#df-e9af19ba-8bde-4ca9-b07a-c9b8fc13923c');\n",
              "          const dataTable =\n",
              "            await google.colab.kernel.invokeFunction('convertToInteractive',\n",
              "                                                     [key], {});\n",
              "          if (!dataTable) return;\n",
              "\n",
              "          const docLinkHtml = 'Like what you see? Visit the ' +\n",
              "            '<a target=\"_blank\" href=https://colab.research.google.com/notebooks/data_table.ipynb>data table notebook</a>'\n",
              "            + ' to learn more about interactive tables.';\n",
              "          element.innerHTML = '';\n",
              "          dataTable['output_type'] = 'display_data';\n",
              "          await google.colab.output.renderOutput(dataTable, element);\n",
              "          const docLink = document.createElement('div');\n",
              "          docLink.innerHTML = docLinkHtml;\n",
              "          element.appendChild(docLink);\n",
              "        }\n",
              "      </script>\n",
              "    </div>\n",
              "  </div>\n",
              "  "
            ]
          },
          "metadata": {},
          "execution_count": 31
        }
      ]
    },
    {
      "cell_type": "code",
      "source": [
        "plt.figure()\n",
        "  \n",
        "# \"up\" dataframe will store the stock_prices \n",
        "# when the closing stock price is greater\n",
        "# than or equal to the opening stock prices\n",
        "up = stock_prices[stock_prices.close >= stock_prices.open]\n",
        "  \n",
        "# \"down\" dataframe will store the stock_prices\n",
        "# when the closing stock price is\n",
        "# lesser than the opening stock prices\n",
        "down = stock_prices[stock_prices.close < stock_prices.open]\n",
        "  \n",
        "# When the stock prices have decreased, then it\n",
        "# will be represented by blue color candlestick\n",
        "col1 = 'blue'\n",
        "  \n",
        "# When the stock prices have increased, then it \n",
        "# will be represented by green color candlestick\n",
        "col2 = 'green'\n",
        "  \n",
        "# Setting width of candlestick elements\n",
        "width = .3\n",
        "width2 = .03\n",
        "  \n",
        "# Plotting up prices of the stock\n",
        "plt.bar(up.index, up.close-up.open, width, bottom=up.open, color=col1)\n",
        "plt.bar(up.index, up.high-up.close, width2, bottom=up.close, color=col1)\n",
        "plt.bar(up.index, up.low-up.open, width2, bottom=up.open, color=col1)\n",
        "  \n",
        "# Plotting down prices of the stock\n",
        "plt.bar(down.index, down.close-down.open, width, bottom=down.open, color=col2)\n",
        "plt.bar(down.index, down.high-down.open, width2, bottom=down.open, color=col2)\n",
        "plt.bar(down.index, down.low-down.close, width2, bottom=down.close, color=col2)\n",
        "  \n",
        "# rotating the x-axis tick labels at 30degree \n",
        "# towards right\n",
        "plt.xticks(rotation=30, ha='right')\n",
        "  \n",
        "# displaying candlestick chart of stock data \n",
        "# of a week\n",
        "plt.show()"
      ],
      "metadata": {
        "colab": {
          "base_uri": "https://localhost:8080/",
          "height": 277
        },
        "id": "FrWmCT0Yfpvq",
        "outputId": "6b2179bf-3227-42d7-dc43-fbaaf3491029"
      },
      "execution_count": 32,
      "outputs": [
        {
          "output_type": "display_data",
          "data": {
            "text/plain": [
              "<Figure size 432x288 with 1 Axes>"
            ],
            "image/png": "[encoded data removed]"
          },
          "metadata": {
            "needs_background": "light"
          }
        }
      ]
    },
    {
      "cell_type": "code",
      "source": [
        "df['observation_date']=pd.to_datetime(df['observation_date'])"
      ],
      "metadata": {
        "id": "2Gr-fIkJh8Vs",
        "colab": {
          "base_uri": "https://localhost:8080/",
          "height": 502
        },
        "outputId": "19656c93-49dc-436b-9deb-43413be130f0"
      },
      "execution_count": 27,
      "outputs": [
        {
          "output_type": "error",
          "ename": "KeyError",
          "evalue": "ignored",
          "traceback": [
            "\u001b[0;31m---------------------------------------------------------------------------\u001b[0m",
            "\u001b[0;31mKeyError\u001b[0m                                  Traceback (most recent call last)",
            "\u001b[0;32m/usr/local/lib/python3.8/dist-packages/pandas/core/indexes/base.py\u001b[0m in \u001b[0;36mget_loc\u001b[0;34m(self, key, method, tolerance)\u001b[0m\n\u001b[1;32m   3360\u001b[0m             \u001b[0;32mtry\u001b[0m\u001b[0;34m:\u001b[0m\u001b[0;34m\u001b[0m\u001b[0;34m\u001b[0m\u001b[0m\n\u001b[0;32m-> 3361\u001b[0;31m                 \u001b[0;32mreturn\u001b[0m \u001b[0mself\u001b[0m\u001b[0;34m.\u001b[0m\u001b[0m_engine\u001b[0m\u001b[0;34m.\u001b[0m\u001b[0mget_loc\u001b[0m\u001b[0;34m(\u001b[0m\u001b[0mcasted_key\u001b[0m\u001b[0;34m)\u001b[0m\u001b[0;34m\u001b[0m\u001b[0;34m\u001b[0m\u001b[0m\n\u001b[0m\u001b[1;32m   3362\u001b[0m             \u001b[0;32mexcept\u001b[0m \u001b[0mKeyError\u001b[0m \u001b[0;32mas\u001b[0m \u001b[0merr\u001b[0m\u001b[0;34m:\u001b[0m\u001b[0;34m\u001b[0m\u001b[0;34m\u001b[0m\u001b[0m\n",
            "\u001b[0;32m/usr/local/lib/python3.8/dist-packages/pandas/_libs/index.pyx\u001b[0m in \u001b[0;36mpandas._libs.index.IndexEngine.get_loc\u001b[0;34m()\u001b[0m\n",
            "\u001b[0;32m/usr/local/lib/python3.8/dist-packages/pandas/_libs/index.pyx\u001b[0m in \u001b[0;36mpandas._libs.index.IndexEngine.get_loc\u001b[0;34m()\u001b[0m\n",
            "\u001b[0;32mpandas/_libs/hashtable_class_helper.pxi\u001b[0m in \u001b[0;36mpandas._libs.hashtable.PyObjectHashTable.get_item\u001b[0;34m()\u001b[0m\n",
            "\u001b[0;32mpandas/_libs/hashtable_class_helper.pxi\u001b[0m in \u001b[0;36mpandas._libs.hashtable.PyObjectHashTable.get_item\u001b[0;34m()\u001b[0m\n",
            "\u001b[0;31mKeyError\u001b[0m: 'observation_date'",
            "\nThe above exception was the direct cause of the following exception:\n",
            "\u001b[0;31mKeyError\u001b[0m                                  Traceback (most recent call last)",
            "\u001b[0;32m<ipython-input-27-b67dd8fea6e5>\u001b[0m in \u001b[0;36m<module>\u001b[0;34m\u001b[0m\n\u001b[0;32m----> 1\u001b[0;31m \u001b[0mdf\u001b[0m\u001b[0;34m[\u001b[0m\u001b[0;34m'observation_date'\u001b[0m\u001b[0;34m]\u001b[0m\u001b[0;34m=\u001b[0m\u001b[0mpd\u001b[0m\u001b[0;34m.\u001b[0m\u001b[0mto_datetime\u001b[0m\u001b[0;34m(\u001b[0m\u001b[0mdf\u001b[0m\u001b[0;34m[\u001b[0m\u001b[0;34m'observation_date'\u001b[0m\u001b[0;34m]\u001b[0m\u001b[0;34m)\u001b[0m\u001b[0;34m\u001b[0m\u001b[0;34m\u001b[0m\u001b[0m\n\u001b[0m",
            "\u001b[0;32m/usr/local/lib/python3.8/dist-packages/pandas/core/frame.py\u001b[0m in \u001b[0;36m__getitem__\u001b[0;34m(self, key)\u001b[0m\n\u001b[1;32m   3456\u001b[0m             \u001b[0;32mif\u001b[0m \u001b[0mself\u001b[0m\u001b[0;34m.\u001b[0m\u001b[0mcolumns\u001b[0m\u001b[0;34m.\u001b[0m\u001b[0mnlevels\u001b[0m \u001b[0;34m>\u001b[0m \u001b[0;36m1\u001b[0m\u001b[0;34m:\u001b[0m\u001b[0;34m\u001b[0m\u001b[0;34m\u001b[0m\u001b[0m\n\u001b[1;32m   3457\u001b[0m                 \u001b[0;32mreturn\u001b[0m \u001b[0mself\u001b[0m\u001b[0;34m.\u001b[0m\u001b[0m_getitem_multilevel\u001b[0m\u001b[0;34m(\u001b[0m\u001b[0mkey\u001b[0m\u001b[0;34m)\u001b[0m\u001b[0;34m\u001b[0m\u001b[0;34m\u001b[0m\u001b[0m\n\u001b[0;32m-> 3458\u001b[0;31m             \u001b[0mindexer\u001b[0m \u001b[0;34m=\u001b[0m \u001b[0mself\u001b[0m\u001b[0;34m.\u001b[0m\u001b[0mcolumns\u001b[0m\u001b[0;34m.\u001b[0m\u001b[0mget_loc\u001b[0m\u001b[0;34m(\u001b[0m\u001b[0mkey\u001b[0m\u001b[0;34m)\u001b[0m\u001b[0;34m\u001b[0m\u001b[0;34m\u001b[0m\u001b[0m\n\u001b[0m\u001b[1;32m   3459\u001b[0m             \u001b[0;32mif\u001b[0m \u001b[0mis_integer\u001b[0m\u001b[0;34m(\u001b[0m\u001b[0mindexer\u001b[0m\u001b[0;34m)\u001b[0m\u001b[0;34m:\u001b[0m\u001b[0;34m\u001b[0m\u001b[0;34m\u001b[0m\u001b[0m\n\u001b[1;32m   3460\u001b[0m                 \u001b[0mindexer\u001b[0m \u001b[0;34m=\u001b[0m \u001b[0;34m[\u001b[0m\u001b[0mindexer\u001b[0m\u001b[0;34m]\u001b[0m\u001b[0;34m\u001b[0m\u001b[0;34m\u001b[0m\u001b[0m\n",
            "\u001b[0;32m/usr/local/lib/python3.8/dist-packages/pandas/core/indexes/base.py\u001b[0m in \u001b[0;36mget_loc\u001b[0;34m(self, key, method, tolerance)\u001b[0m\n\u001b[1;32m   3361\u001b[0m                 \u001b[0;32mreturn\u001b[0m \u001b[0mself\u001b[0m\u001b[0;34m.\u001b[0m\u001b[0m_engine\u001b[0m\u001b[0;34m.\u001b[0m\u001b[0mget_loc\u001b[0m\u001b[0;34m(\u001b[0m\u001b[0mcasted_key\u001b[0m\u001b[0;34m)\u001b[0m\u001b[0;34m\u001b[0m\u001b[0;34m\u001b[0m\u001b[0m\n\u001b[1;32m   3362\u001b[0m             \u001b[0;32mexcept\u001b[0m \u001b[0mKeyError\u001b[0m \u001b[0;32mas\u001b[0m \u001b[0merr\u001b[0m\u001b[0;34m:\u001b[0m\u001b[0;34m\u001b[0m\u001b[0;34m\u001b[0m\u001b[0m\n\u001b[0;32m-> 3363\u001b[0;31m                 \u001b[0;32mraise\u001b[0m \u001b[0mKeyError\u001b[0m\u001b[0;34m(\u001b[0m\u001b[0mkey\u001b[0m\u001b[0;34m)\u001b[0m \u001b[0;32mfrom\u001b[0m \u001b[0merr\u001b[0m\u001b[0;34m\u001b[0m\u001b[0;34m\u001b[0m\u001b[0m\n\u001b[0m\u001b[1;32m   3364\u001b[0m \u001b[0;34m\u001b[0m\u001b[0m\n\u001b[1;32m   3365\u001b[0m         \u001b[0;32mif\u001b[0m \u001b[0mis_scalar\u001b[0m\u001b[0;34m(\u001b[0m\u001b[0mkey\u001b[0m\u001b[0;34m)\u001b[0m \u001b[0;32mand\u001b[0m \u001b[0misna\u001b[0m\u001b[0;34m(\u001b[0m\u001b[0mkey\u001b[0m\u001b[0;34m)\u001b[0m \u001b[0;32mand\u001b[0m \u001b[0;32mnot\u001b[0m \u001b[0mself\u001b[0m\u001b[0;34m.\u001b[0m\u001b[0mhasnans\u001b[0m\u001b[0;34m:\u001b[0m\u001b[0;34m\u001b[0m\u001b[0;34m\u001b[0m\u001b[0m\n",
            "\u001b[0;31mKeyError\u001b[0m: 'observation_date'"
          ]
        }
      ]
    },
    {
      "cell_type": "code",
      "source": [
        "plt.figure(figsize=(11,7))\n",
        "plt.plot(df['observation_date'],df['Intrest_Rates'])\n",
        "plt.xlabel('observation_date')\n",
        "plt.ylabel('Intrest_Rates')\n",
        "plt.show()"
      ],
      "metadata": {
        "colab": {
          "base_uri": "https://localhost:8080/",
          "height": 443
        },
        "id": "dr6aDiKYihhh",
        "outputId": "5958e077-b564-473f-b796-0b69b9a915fe"
      },
      "execution_count": null,
      "outputs": [
        {
          "output_type": "display_data",
          "data": {
            "text/plain": [
              "<Figure size 792x504 with 1 Axes>"
            ],
            "image/png": "[encoded data removed]"
          },
          "metadata": {
            "needs_background": "light"
          }
        }
      ]
    },
    {
      "cell_type": "code",
      "source": [
        "df1=df[df['observation_date']<'01-01-2011']\n",
        "df2=df[df['observation_date']>='01-01-2011']\n",
        "print(df1.shape)\n",
        "print(df2.shape)"
      ],
      "metadata": {
        "colab": {
          "base_uri": "https://localhost:8080/"
        },
        "id": "IO3wMNGTio2D",
        "outputId": "2812addc-01d0-4cd4-f56d-40b06952f1b0"
      },
      "execution_count": null,
      "outputs": [
        {
          "output_type": "stream",
          "name": "stdout",
          "text": [
            "(516, 2)\n",
            "(139, 2)\n"
          ]
        }
      ]
    },
    {
      "cell_type": "code",
      "source": [
        "plt.figure(figsize=(15,5))\n",
        "plt.plot(df1['observation_date'],df1['Intrest_Rates'],color='blue',label=['Train'])\n",
        "plt.plot(df2['observation_date'],df2['Intrest_Rates'],color='red',label=['Test'])\n",
        "plt.xlabel('observation_date')\n",
        "plt.ylabel('Intrest_Rates')\n",
        "plt.legend()\n",
        "plt.show()"
      ],
      "metadata": {
        "colab": {
          "base_uri": "https://localhost:8080/",
          "height": 335
        },
        "id": "cPFYKbGEjYgZ",
        "outputId": "2a03cef6-34a8-4e6d-a742-4234fd53bb16"
      },
      "execution_count": null,
      "outputs": [
        {
          "output_type": "display_data",
          "data": {
            "text/plain": [
              "<Figure size 1080x360 with 1 Axes>"
            ],
            "image/png": "[encoded data removed]"
          },
          "metadata": {
            "needs_background": "light"
          }
        }
      ]
    },
    {
      "cell_type": "code",
      "source": [
        "def feature(df):\n",
        "  df['Month']=df['observation_date'].dt.month\n",
        "  df['Year']=df['observation_date'].dt.year\n",
        "  df3=df[['observation_date','Year','Month','Intrest_Rates']]\n",
        "  return(df3)"
      ],
      "metadata": {
        "id": "hKC9_cosjwtf"
      },
      "execution_count": null,
      "outputs": []
    },
    {
      "cell_type": "code",
      "source": [
        "df3=feature(df1)"
      ],
      "metadata": {
        "colab": {
          "base_uri": "https://localhost:8080/"
        },
        "id": "JVnM8siyoFNx",
        "outputId": "5e903f1b-8aab-4d6b-930d-6a87f5127efb"
      },
      "execution_count": null,
      "outputs": [
        {
          "output_type": "stream",
          "name": "stderr",
          "text": [
            "<ipython-input-180-91fe2addf7a5>:2: SettingWithCopyWarning: \n",
            "A value is trying to be set on a copy of a slice from a DataFrame.\n",
            "Try using .loc[row_indexer,col_indexer] = value instead\n",
            "\n",
            "See the caveats in the documentation: https://pandas.pydata.org/pandas-docs/stable/user_guide/indexing.html#returning-a-view-versus-a-copy\n",
            "  df['Month']=df['observation_date'].dt.month\n",
            "<ipython-input-180-91fe2addf7a5>:3: SettingWithCopyWarning: \n",
            "A value is trying to be set on a copy of a slice from a DataFrame.\n",
            "Try using .loc[row_indexer,col_indexer] = value instead\n",
            "\n",
            "See the caveats in the documentation: https://pandas.pydata.org/pandas-docs/stable/user_guide/indexing.html#returning-a-view-versus-a-copy\n",
            "  df['Year']=df['observation_date'].dt.year\n"
          ]
        }
      ]
    },
    {
      "cell_type": "code",
      "source": [
        "df3"
      ],
      "metadata": {
        "colab": {
          "base_uri": "https://localhost:8080/",
          "height": 424
        },
        "id": "1yE1ITploQiM",
        "outputId": "f5b2f23f-f88c-4ba3-df7e-24629c318dd3"
      },
      "execution_count": null,
      "outputs": [
        {
          "output_type": "execute_result",
          "data": {
            "text/plain": [
              "    observation_date  Year  Month Intrest_Rates\n",
              "10        1968-01-01  1968      1             6\n",
              "11        1968-02-01  1968      2             6\n",
              "12        1968-03-01  1968      3             5\n",
              "13        1968-04-01  1968      4             5\n",
              "14        1968-05-01  1968      5             5\n",
              "..               ...   ...    ...           ...\n",
              "521       2010-08-01  2010      8             6\n",
              "522       2010-09-01  2010      9             6\n",
              "523       2010-10-01  2010     10             6\n",
              "524       2010-11-01  2010     11             6\n",
              "525       2010-12-01  2010     12             6\n",
              "\n",
              "[516 rows x 4 columns]"
            ],
            "text/html": [
              "\n",
              "  <div id=\"df-c96174f9-4113-41ea-8394-1d50de4ed390\">\n",
              "    <div class=\"colab-df-container\">\n",
              "      <div>\n",
              "<style scoped>\n",
              "    .dataframe tbody tr th:only-of-type {\n",
              "        vertical-align: middle;\n",
              "    }\n",
              "\n",
              "    .dataframe tbody tr th {\n",
              "        vertical-align: top;\n",
              "    }\n",
              "\n",
              "    .dataframe thead th {\n",
              "        text-align: right;\n",
              "    }\n",
              "</style>\n",
              "<table border=\"1\" class=\"dataframe\">\n",
              "  <thead>\n",
              "    <tr style=\"text-align: right;\">\n",
              "      <th></th>\n",
              "      <th>observation_date</th>\n",
              "      <th>Year</th>\n",
              "      <th>Month</th>\n",
              "      <th>Intrest_Rates</th>\n",
              "    </tr>\n",
              "  </thead>\n",
              "  <tbody>\n",
              "    <tr>\n",
              "      <th>10</th>\n",
              "      <td>1968-01-01</td>\n",
              "      <td>1968</td>\n",
              "      <td>1</td>\n",
              "      <td>6</td>\n",
              "    </tr>\n",
              "    <tr>\n",
              "      <th>11</th>\n",
              "      <td>1968-02-01</td>\n",
              "      <td>1968</td>\n",
              "      <td>2</td>\n",
              "      <td>6</td>\n",
              "    </tr>\n",
              "    <tr>\n",
              "      <th>12</th>\n",
              "      <td>1968-03-01</td>\n",
              "      <td>1968</td>\n",
              "      <td>3</td>\n",
              "      <td>5</td>\n",
              "    </tr>\n",
              "    <tr>\n",
              "      <th>13</th>\n",
              "      <td>1968-04-01</td>\n",
              "      <td>1968</td>\n",
              "      <td>4</td>\n",
              "      <td>5</td>\n",
              "    </tr>\n",
              "    <tr>\n",
              "      <th>14</th>\n",
              "      <td>1968-05-01</td>\n",
              "      <td>1968</td>\n",
              "      <td>5</td>\n",
              "      <td>5</td>\n",
              "    </tr>\n",
              "    <tr>\n",
              "      <th>...</th>\n",
              "      <td>...</td>\n",
              "      <td>...</td>\n",
              "      <td>...</td>\n",
              "      <td>...</td>\n",
              "    </tr>\n",
              "    <tr>\n",
              "      <th>521</th>\n",
              "      <td>2010-08-01</td>\n",
              "      <td>2010</td>\n",
              "      <td>8</td>\n",
              "      <td>6</td>\n",
              "    </tr>\n",
              "    <tr>\n",
              "      <th>522</th>\n",
              "      <td>2010-09-01</td>\n",
              "      <td>2010</td>\n",
              "      <td>9</td>\n",
              "      <td>6</td>\n",
              "    </tr>\n",
              "    <tr>\n",
              "      <th>523</th>\n",
              "      <td>2010-10-01</td>\n",
              "      <td>2010</td>\n",
              "      <td>10</td>\n",
              "      <td>6</td>\n",
              "    </tr>\n",
              "    <tr>\n",
              "      <th>524</th>\n",
              "      <td>2010-11-01</td>\n",
              "      <td>2010</td>\n",
              "      <td>11</td>\n",
              "      <td>6</td>\n",
              "    </tr>\n",
              "    <tr>\n",
              "      <th>525</th>\n",
              "      <td>2010-12-01</td>\n",
              "      <td>2010</td>\n",
              "      <td>12</td>\n",
              "      <td>6</td>\n",
              "    </tr>\n",
              "  </tbody>\n",
              "</table>\n",
              "<p>516 rows × 4 columns</p>\n",
              "</div>\n",
              "      <button class=\"colab-df-convert\" onclick=\"convertToInteractive('df-c96174f9-4113-41ea-8394-1d50de4ed390')\"\n",
              "              title=\"Convert this dataframe to an interactive table.\"\n",
              "              style=\"display:none;\">\n",
              "        \n",
              "  <svg xmlns=\"http://www.w3.org/2000/svg\" height=\"24px\"viewBox=\"0 0 24 24\"\n",
              "       width=\"24px\">\n",
              "    <path d=\"M0 0h24v24H0V0z\" fill=\"none\"/>\n",
              "    <path d=\"M18.56 5.44l.94 2.06.94-2.06 2.06-.94-2.06-.94-.94-2.06-.94 2.06-2.06.94zm-11 1L8.5 8.5l.94-2.06 2.06-.94-2.06-.94L8.5 2.5l-.94 2.06-2.06.94zm10 10l.94 2.06.94-2.06 2.06-.94-2.06-.94-.94-2.06-.94 2.06-2.06.94z\"/><path d=\"M17.41 7.96l-1.37-1.37c-.4-.4-.92-.59-1.43-.59-.52 0-1.04.2-1.43.59L10.3 9.45l-7.72 7.72c-.78.78-.78 2.05 0 2.83L4 21.41c.39.39.9.59 1.41.59.51 0 1.02-.2 1.41-.59l7.78-7.78 2.81-2.81c.8-.78.8-2.07 0-2.86zM5.41 20L4 18.59l7.72-7.72 1.47 1.35L5.41 20z\"/>\n",
              "  </svg>\n",
              "      </button>\n",
              "      \n",
              "  <style>\n",
              "    .colab-df-container {\n",
              "      display:flex;\n",
              "      flex-wrap:wrap;\n",
              "      gap: 12px;\n",
              "    }\n",
              "\n",
              "    .colab-df-convert {\n",
              "      background-color: #E8F0FE;\n",
              "      border: none;\n",
              "      border-radius: 50%;\n",
              "      cursor: pointer;\n",
              "      display: none;\n",
              "      fill: #1967D2;\n",
              "      height: 32px;\n",
              "      padding: 0 0 0 0;\n",
              "      width: 32px;\n",
              "    }\n",
              "\n",
              "    .colab-df-convert:hover {\n",
              "      background-color: #E2EBFA;\n",
              "      box-shadow: 0px 1px 2px rgba(60, 64, 67, 0.3), 0px 1px 3px 1px rgba(60, 64, 67, 0.15);\n",
              "      fill: #174EA6;\n",
              "    }\n",
              "\n",
              "    [theme=dark] .colab-df-convert {\n",
              "      background-color: #3B4455;\n",
              "      fill: #D2E3FC;\n",
              "    }\n",
              "\n",
              "    [theme=dark] .colab-df-convert:hover {\n",
              "      background-color: #434B5C;\n",
              "      box-shadow: 0px 1px 3px 1px rgba(0, 0, 0, 0.15);\n",
              "      filter: drop-shadow(0px 1px 2px rgba(0, 0, 0, 0.3));\n",
              "      fill: #FFFFFF;\n",
              "    }\n",
              "  </style>\n",
              "\n",
              "      <script>\n",
              "        const buttonEl =\n",
              "          document.querySelector('#df-c96174f9-4113-41ea-8394-1d50de4ed390 button.colab-df-convert');\n",
              "        buttonEl.style.display =\n",
              "          google.colab.kernel.accessAllowed ? 'block' : 'none';\n",
              "\n",
              "        async function convertToInteractive(key) {\n",
              "          const element = document.querySelector('#df-c96174f9-4113-41ea-8394-1d50de4ed390');\n",
              "          const dataTable =\n",
              "            await google.colab.kernel.invokeFunction('convertToInteractive',\n",
              "                                                     [key], {});\n",
              "          if (!dataTable) return;\n",
              "\n",
              "          const docLinkHtml = 'Like what you see? Visit the ' +\n",
              "            '<a target=\"_blank\" href=https://colab.research.google.com/notebooks/data_table.ipynb>data table notebook</a>'\n",
              "            + ' to learn more about interactive tables.';\n",
              "          element.innerHTML = '';\n",
              "          dataTable['output_type'] = 'display_data';\n",
              "          await google.colab.output.renderOutput(dataTable, element);\n",
              "          const docLink = document.createElement('div');\n",
              "          docLink.innerHTML = docLinkHtml;\n",
              "          element.appendChild(docLink);\n",
              "        }\n",
              "      </script>\n",
              "    </div>\n",
              "  </div>\n",
              "  "
            ]
          },
          "metadata": {},
          "execution_count": 182
        }
      ]
    },
    {
      "cell_type": "code",
      "source": [
        "df4=feature(df2)"
      ],
      "metadata": {
        "colab": {
          "base_uri": "https://localhost:8080/"
        },
        "id": "L9X-8YGtqND6",
        "outputId": "76dbd543-7b0d-4d53-dfe4-269d83d1838f"
      },
      "execution_count": null,
      "outputs": [
        {
          "output_type": "stream",
          "name": "stderr",
          "text": [
            "<ipython-input-180-91fe2addf7a5>:2: SettingWithCopyWarning: \n",
            "A value is trying to be set on a copy of a slice from a DataFrame.\n",
            "Try using .loc[row_indexer,col_indexer] = value instead\n",
            "\n",
            "See the caveats in the documentation: https://pandas.pydata.org/pandas-docs/stable/user_guide/indexing.html#returning-a-view-versus-a-copy\n",
            "  df['Month']=df['observation_date'].dt.month\n",
            "<ipython-input-180-91fe2addf7a5>:3: SettingWithCopyWarning: \n",
            "A value is trying to be set on a copy of a slice from a DataFrame.\n",
            "Try using .loc[row_indexer,col_indexer] = value instead\n",
            "\n",
            "See the caveats in the documentation: https://pandas.pydata.org/pandas-docs/stable/user_guide/indexing.html#returning-a-view-versus-a-copy\n",
            "  df['Year']=df['observation_date'].dt.year\n"
          ]
        }
      ]
    },
    {
      "cell_type": "code",
      "source": [
        "df4"
      ],
      "metadata": {
        "colab": {
          "base_uri": "https://localhost:8080/",
          "height": 424
        },
        "id": "F4crl0yUrYR1",
        "outputId": "3b9216d6-408e-4f4a-c1ef-ec5c739a39df"
      },
      "execution_count": null,
      "outputs": [
        {
          "output_type": "execute_result",
          "data": {
            "text/plain": [
              "    observation_date  Year  Month Intrest_Rates\n",
              "526       2011-01-01  2011      1             6\n",
              "527       2011-02-01  2011      2             6\n",
              "528       2011-03-01  2011      3             6\n",
              "529       2011-04-01  2011      4             6\n",
              "530       2011-05-01  2011      5             6\n",
              "..               ...   ...    ...           ...\n",
              "660       2022-03-01  2022      3          4.25\n",
              "661       2022-04-01  2022      4          4.25\n",
              "662       2022-05-01  2022      5          4.65\n",
              "663       2022-06-01  2022      6          5.15\n",
              "664       2022-07-01  2022      7          5.15\n",
              "\n",
              "[139 rows x 4 columns]"
            ],
            "text/html": [
              "\n",
              "  <div id=\"df-be7c7cd8-e7d6-44c7-b63e-2f9878f4ebb5\">\n",
              "    <div class=\"colab-df-container\">\n",
              "      <div>\n",
              "<style scoped>\n",
              "    .dataframe tbody tr th:only-of-type {\n",
              "        vertical-align: middle;\n",
              "    }\n",
              "\n",
              "    .dataframe tbody tr th {\n",
              "        vertical-align: top;\n",
              "    }\n",
              "\n",
              "    .dataframe thead th {\n",
              "        text-align: right;\n",
              "    }\n",
              "</style>\n",
              "<table border=\"1\" class=\"dataframe\">\n",
              "  <thead>\n",
              "    <tr style=\"text-align: right;\">\n",
              "      <th></th>\n",
              "      <th>observation_date</th>\n",
              "      <th>Year</th>\n",
              "      <th>Month</th>\n",
              "      <th>Intrest_Rates</th>\n",
              "    </tr>\n",
              "  </thead>\n",
              "  <tbody>\n",
              "    <tr>\n",
              "      <th>526</th>\n",
              "      <td>2011-01-01</td>\n",
              "      <td>2011</td>\n",
              "      <td>1</td>\n",
              "      <td>6</td>\n",
              "    </tr>\n",
              "    <tr>\n",
              "      <th>527</th>\n",
              "      <td>2011-02-01</td>\n",
              "      <td>2011</td>\n",
              "      <td>2</td>\n",
              "      <td>6</td>\n",
              "    </tr>\n",
              "    <tr>\n",
              "      <th>528</th>\n",
              "      <td>2011-03-01</td>\n",
              "      <td>2011</td>\n",
              "      <td>3</td>\n",
              "      <td>6</td>\n",
              "    </tr>\n",
              "    <tr>\n",
              "      <th>529</th>\n",
              "      <td>2011-04-01</td>\n",
              "      <td>2011</td>\n",
              "      <td>4</td>\n",
              "      <td>6</td>\n",
              "    </tr>\n",
              "    <tr>\n",
              "      <th>530</th>\n",
              "      <td>2011-05-01</td>\n",
              "      <td>2011</td>\n",
              "      <td>5</td>\n",
              "      <td>6</td>\n",
              "    </tr>\n",
              "    <tr>\n",
              "      <th>...</th>\n",
              "      <td>...</td>\n",
              "      <td>...</td>\n",
              "      <td>...</td>\n",
              "      <td>...</td>\n",
              "    </tr>\n",
              "    <tr>\n",
              "      <th>660</th>\n",
              "      <td>2022-03-01</td>\n",
              "      <td>2022</td>\n",
              "      <td>3</td>\n",
              "      <td>4.25</td>\n",
              "    </tr>\n",
              "    <tr>\n",
              "      <th>661</th>\n",
              "      <td>2022-04-01</td>\n",
              "      <td>2022</td>\n",
              "      <td>4</td>\n",
              "      <td>4.25</td>\n",
              "    </tr>\n",
              "    <tr>\n",
              "      <th>662</th>\n",
              "      <td>2022-05-01</td>\n",
              "      <td>2022</td>\n",
              "      <td>5</td>\n",
              "      <td>4.65</td>\n",
              "    </tr>\n",
              "    <tr>\n",
              "      <th>663</th>\n",
              "      <td>2022-06-01</td>\n",
              "      <td>2022</td>\n",
              "      <td>6</td>\n",
              "      <td>5.15</td>\n",
              "    </tr>\n",
              "    <tr>\n",
              "      <th>664</th>\n",
              "      <td>2022-07-01</td>\n",
              "      <td>2022</td>\n",
              "      <td>7</td>\n",
              "      <td>5.15</td>\n",
              "    </tr>\n",
              "  </tbody>\n",
              "</table>\n",
              "<p>139 rows × 4 columns</p>\n",
              "</div>\n",
              "      <button class=\"colab-df-convert\" onclick=\"convertToInteractive('df-be7c7cd8-e7d6-44c7-b63e-2f9878f4ebb5')\"\n",
              "              title=\"Convert this dataframe to an interactive table.\"\n",
              "              style=\"display:none;\">\n",
              "        \n",
              "  <svg xmlns=\"http://www.w3.org/2000/svg\" height=\"24px\"viewBox=\"0 0 24 24\"\n",
              "       width=\"24px\">\n",
              "    <path d=\"M0 0h24v24H0V0z\" fill=\"none\"/>\n",
              "    <path d=\"M18.56 5.44l.94 2.06.94-2.06 2.06-.94-2.06-.94-.94-2.06-.94 2.06-2.06.94zm-11 1L8.5 8.5l.94-2.06 2.06-.94-2.06-.94L8.5 2.5l-.94 2.06-2.06.94zm10 10l.94 2.06.94-2.06 2.06-.94-2.06-.94-.94-2.06-.94 2.06-2.06.94z\"/><path d=\"M17.41 7.96l-1.37-1.37c-.4-.4-.92-.59-1.43-.59-.52 0-1.04.2-1.43.59L10.3 9.45l-7.72 7.72c-.78.78-.78 2.05 0 2.83L4 21.41c.39.39.9.59 1.41.59.51 0 1.02-.2 1.41-.59l7.78-7.78 2.81-2.81c.8-.78.8-2.07 0-2.86zM5.41 20L4 18.59l7.72-7.72 1.47 1.35L5.41 20z\"/>\n",
              "  </svg>\n",
              "      </button>\n",
              "      \n",
              "  <style>\n",
              "    .colab-df-container {\n",
              "      display:flex;\n",
              "      flex-wrap:wrap;\n",
              "      gap: 12px;\n",
              "    }\n",
              "\n",
              "    .colab-df-convert {\n",
              "      background-color: #E8F0FE;\n",
              "      border: none;\n",
              "      border-radius: 50%;\n",
              "      cursor: pointer;\n",
              "      display: none;\n",
              "      fill: #1967D2;\n",
              "      height: 32px;\n",
              "      padding: 0 0 0 0;\n",
              "      width: 32px;\n",
              "    }\n",
              "\n",
              "    .colab-df-convert:hover {\n",
              "      background-color: #E2EBFA;\n",
              "      box-shadow: 0px 1px 2px rgba(60, 64, 67, 0.3), 0px 1px 3px 1px rgba(60, 64, 67, 0.15);\n",
              "      fill: #174EA6;\n",
              "    }\n",
              "\n",
              "    [theme=dark] .colab-df-convert {\n",
              "      background-color: #3B4455;\n",
              "      fill: #D2E3FC;\n",
              "    }\n",
              "\n",
              "    [theme=dark] .colab-df-convert:hover {\n",
              "      background-color: #434B5C;\n",
              "      box-shadow: 0px 1px 3px 1px rgba(0, 0, 0, 0.15);\n",
              "      filter: drop-shadow(0px 1px 2px rgba(0, 0, 0, 0.3));\n",
              "      fill: #FFFFFF;\n",
              "    }\n",
              "  </style>\n",
              "\n",
              "      <script>\n",
              "        const buttonEl =\n",
              "          document.querySelector('#df-be7c7cd8-e7d6-44c7-b63e-2f9878f4ebb5 button.colab-df-convert');\n",
              "        buttonEl.style.display =\n",
              "          google.colab.kernel.accessAllowed ? 'block' : 'none';\n",
              "\n",
              "        async function convertToInteractive(key) {\n",
              "          const element = document.querySelector('#df-be7c7cd8-e7d6-44c7-b63e-2f9878f4ebb5');\n",
              "          const dataTable =\n",
              "            await google.colab.kernel.invokeFunction('convertToInteractive',\n",
              "                                                     [key], {});\n",
              "          if (!dataTable) return;\n",
              "\n",
              "          const docLinkHtml = 'Like what you see? Visit the ' +\n",
              "            '<a target=\"_blank\" href=https://colab.research.google.com/notebooks/data_table.ipynb>data table notebook</a>'\n",
              "            + ' to learn more about interactive tables.';\n",
              "          element.innerHTML = '';\n",
              "          dataTable['output_type'] = 'display_data';\n",
              "          await google.colab.output.renderOutput(dataTable, element);\n",
              "          const docLink = document.createElement('div');\n",
              "          docLink.innerHTML = docLinkHtml;\n",
              "          element.appendChild(docLink);\n",
              "        }\n",
              "      </script>\n",
              "    </div>\n",
              "  </div>\n",
              "  "
            ]
          },
          "metadata": {},
          "execution_count": 184
        }
      ]
    },
    {
      "cell_type": "code",
      "source": [
        "sns.set(rc={\"figure.figsize\": (25, 5)})\n",
        "sns.boxplot(x='Year',y='Intrest_Rates',data=df3)"
      ],
      "metadata": {
        "colab": {
          "base_uri": "https://localhost:8080/",
          "height": 356
        },
        "id": "ic1Lug-brcv5",
        "outputId": "3ea9dcf6-87f5-4655-baa7-df60d283de23"
      },
      "execution_count": null,
      "outputs": [
        {
          "output_type": "execute_result",
          "data": {
            "text/plain": [
              "<matplotlib.axes._subplots.AxesSubplot at 0x7fec5a64a3d0>"
            ]
          },
          "metadata": {},
          "execution_count": 185
        },
        {
          "output_type": "display_data",
          "data": {
            "text/plain": [
              "<Figure size 1800x360 with 1 Axes>"
            ],
            "image/png": "[encoded data removed]"
          },
          "metadata": {}
        }
      ]
    },
    {
      "cell_type": "code",
      "source": [
        "sns.set(rc={\"figure.figsize\": (25, 5)})\n",
        "sns.boxplot(x='Year',y='Intrest_Rates',data=df4)"
      ],
      "metadata": {
        "colab": {
          "base_uri": "https://localhost:8080/",
          "height": 356
        },
        "id": "lFimuQhrrkS1",
        "outputId": "ad96ae2e-daf3-49be-fdc5-a9beeab3a752"
      },
      "execution_count": null,
      "outputs": [
        {
          "output_type": "execute_result",
          "data": {
            "text/plain": [
              "<matplotlib.axes._subplots.AxesSubplot at 0x7fec5a7f78e0>"
            ]
          },
          "metadata": {},
          "execution_count": 186
        },
        {
          "output_type": "display_data",
          "data": {
            "text/plain": [
              "<Figure size 1800x360 with 1 Axes>"
            ],
            "image/png": "[encoded data removed]"
          },
          "metadata": {}
        }
      ]
    },
    {
      "cell_type": "code",
      "source": [
        "from sklearn.metrics import mean_squared_error\n",
        "import xgboost as xgb"
      ],
      "metadata": {
        "id": "0hyK29jxyNb5"
      },
      "execution_count": null,
      "outputs": []
    },
    {
      "cell_type": "code",
      "source": [
        "reg=xgb.XGBRegressor()"
      ],
      "metadata": {
        "id": "IY5gm86OymYJ"
      },
      "execution_count": null,
      "outputs": []
    },
    {
      "cell_type": "code",
      "source": [
        "x_train=df3.iloc[:,1:3].values\n",
        "y_train=df3.iloc[:,3].values\n",
        "\n",
        "x_test=df4.iloc[:,1:3].values\n",
        "y_test=df4.iloc[:,3].values\n",
        "\n",
        "print(x_train)\n",
        "print(y_train)\n",
        "print(x_test)\n",
        "print(y_test)"
      ],
      "metadata": {
        "colab": {
          "base_uri": "https://localhost:8080/"
        },
        "id": "7IfdTZI8ywAb",
        "outputId": "13bebbec-63a0-40c7-8f60-5858681b4ffb"
      },
      "execution_count": null,
      "outputs": [
        {
          "output_type": "stream",
          "name": "stdout",
          "text": [
            "[[1968    1]\n",
            " [1968    2]\n",
            " [1968    3]\n",
            " ...\n",
            " [2010   10]\n",
            " [2010   11]\n",
            " [2010   12]]\n",
            "[6 6 5 5 5 5 5 5 5 5 5 5 5 5 5 5 5 5 5 5 5 5 5 5 5 5 5 5 5 5 5 5 5 5 5 5 6\n",
            " 6 6 6 6 6 6 6 6 6 6 6 6 6 6 6 6 6 6 6 6 6 6 6 6 6 6 6 7 7 7 7 7 7 7 7 7 7\n",
            " 7 7 7 7 9 9 9 9 9 9 9 9 9 9 9 9 9 9 9 9 9 9 9 9 9 9 9 9 9 9 9 9 9 9 9 9 9\n",
            " 9 9 9 9 9 9 9 9 9 9 9 9 9 9 9 9 9 9 9 9 9 9 9 9 9 9 9 9 9 9 9 9 9 9 9 9 9\n",
            " 9 9 9 9 9 9 9 9 9 9 9 9 9 9 10 10 10 10 10 10 10 10 10 10 10 10 10 10 10\n",
            " 10 10 10 10 10 10 10 10 10 10 10 10 10 10 10 10 10 10 10 10 10 10 10 10\n",
            " 10 10 10 10 10 10 10 10 10 10 10 10 10 10 10 10 10 10 10 10 10 10 10 10\n",
            " 10 10 10 10 10 10 10 10 10 10 10 10 10 10 10 10 10 10 10 10 10 10 10 10\n",
            " 10 10 10 10 10 10 10 10 10 10 10 10 10 10 10 10 10 10 10 10 10 10 10 10\n",
            " 10 10 10 10 10 10 10 10 10 11 11 11 12 12 12 12 12 12 12 12 12 12 12 12\n",
            " 12 12 12 12 12 12 12 12 12 12 12 12 12 12 12 12 12 12 12 12 12 12 12 12\n",
            " 12 12 12 12 12 12 12 12 12 12 12 12 12 12 12 12 12 12 12 12 12 12 12 12\n",
            " 12 12 12 12 12 12 11 11 10 10 10 10 9 9 9 11 11 10.5 10 9 9 9 9 9 9 9 9 9\n",
            " 9 8 8 8 8 8 8 8 8 8 8 8 8 8 7 7 7 8 8 8 8 8 8 8 7.5 7 7 7 7 7 7 7 6.5 6.5\n",
            " 6.5 6.5 6.5 6.5 6.5 6.5 6.5 6.5 6.5 6.5 6.5 6.25 6.25 6.25 6.25 6.25 6.25\n",
            " 6 6 6 6 6 6 6 6 6 6 6 6 6 6 6 6 6 6 6 6 6 6 6 6 6 6 6 6 6 6 6 6 6 6 6 6 6\n",
            " 6 6 6 6 6 6 6 6 6 6 6 6 6 6 6 6 6 6 6 6 6 6 6 6 6 6 6 6 6 6 6 6 6 6 6 6 6\n",
            " 6 6 6 6 6 6 6 6 6 6 6 6 6 6 6 6 6 6]\n",
            "[[2011    1]\n",
            " [2011    2]\n",
            " [2011    3]\n",
            " [2011    4]\n",
            " [2011    5]\n",
            " [2011    6]\n",
            " [2011    7]\n",
            " [2011    8]\n",
            " [2011    9]\n",
            " [2011   10]\n",
            " [2011   11]\n",
            " [2011   12]\n",
            " [2012    1]\n",
            " [2012    2]\n",
            " [2012    3]\n",
            " [2012    4]\n",
            " [2012    5]\n",
            " [2012    6]\n",
            " [2012    7]\n",
            " [2012    8]\n",
            " [2012    9]\n",
            " [2012   10]\n",
            " [2012   11]\n",
            " [2012   12]\n",
            " [2013    1]\n",
            " [2013    2]\n",
            " [2013    3]\n",
            " [2013    4]\n",
            " [2013    5]\n",
            " [2013    6]\n",
            " [2013    7]\n",
            " [2013    8]\n",
            " [2013    9]\n",
            " [2013   10]\n",
            " [2013   11]\n",
            " [2013   12]\n",
            " [2014    1]\n",
            " [2014    2]\n",
            " [2014    3]\n",
            " [2014    4]\n",
            " [2014    5]\n",
            " [2014    6]\n",
            " [2014    7]\n",
            " [2014    8]\n",
            " [2014    9]\n",
            " [2014   10]\n",
            " [2014   11]\n",
            " [2014   12]\n",
            " [2015    1]\n",
            " [2015    2]\n",
            " [2015    3]\n",
            " [2015    4]\n",
            " [2015    5]\n",
            " [2015    6]\n",
            " [2015    7]\n",
            " [2015    8]\n",
            " [2015    9]\n",
            " [2015   10]\n",
            " [2015   11]\n",
            " [2015   12]\n",
            " [2016    1]\n",
            " [2016    2]\n",
            " [2016    3]\n",
            " [2016    4]\n",
            " [2016    5]\n",
            " [2016    6]\n",
            " [2016    7]\n",
            " [2016    8]\n",
            " [2016    9]\n",
            " [2016   10]\n",
            " [2016   11]\n",
            " [2016   12]\n",
            " [2017    1]\n",
            " [2017    2]\n",
            " [2017    3]\n",
            " [2017    4]\n",
            " [2017    5]\n",
            " [2017    6]\n",
            " [2017    7]\n",
            " [2017    8]\n",
            " [2017    9]\n",
            " [2017   10]\n",
            " [2017   11]\n",
            " [2017   12]\n",
            " [2018    1]\n",
            " [2018    2]\n",
            " [2018    3]\n",
            " [2018    4]\n",
            " [2018    5]\n",
            " [2018    6]\n",
            " [2018    7]\n",
            " [2018    8]\n",
            " [2018    9]\n",
            " [2018   10]\n",
            " [2018   11]\n",
            " [2018   12]\n",
            " [2019    1]\n",
            " [2019    2]\n",
            " [2019    3]\n",
            " [2019    4]\n",
            " [2019    5]\n",
            " [2019    6]\n",
            " [2019    7]\n",
            " [2019    8]\n",
            " [2019    9]\n",
            " [2019   10]\n",
            " [2019   11]\n",
            " [2019   12]\n",
            " [2020    1]\n",
            " [2020    2]\n",
            " [2020    3]\n",
            " [2020    4]\n",
            " [2020    5]\n",
            " [2020    6]\n",
            " [2020    7]\n",
            " [2020    8]\n",
            " [2020    9]\n",
            " [2020   10]\n",
            " [2020   11]\n",
            " [2020   12]\n",
            " [2021    1]\n",
            " [2021    2]\n",
            " [2021    3]\n",
            " [2021    4]\n",
            " [2021    5]\n",
            " [2021    6]\n",
            " [2021    7]\n",
            " [2021    8]\n",
            " [2021    9]\n",
            " [2021   10]\n",
            " [2021   11]\n",
            " [2021   12]\n",
            " [2022    1]\n",
            " [2022    2]\n",
            " [2022    3]\n",
            " [2022    4]\n",
            " [2022    5]\n",
            " [2022    6]\n",
            " [2022    7]]\n",
            "[6 6 6 6 6 6 6 6 6 6 6 6 6 9.5 9.5 9 9 9 9 9 9 9 9 9 9 8.75 8.5 8.5 8.25\n",
            " 8.25 10.25 10.25 9.5 8.75 8.75 8.75 9 9 9 9 9 9 9 9 9 9 9 9 8.75 8.75 8.5\n",
            " 8.5 8.5 8.25 8.25 8.25 8.25 7.75 7.75 7.75 7.75 7.75 7.75 7 7 7 7 7 7\n",
            " 6.75 6.75 6.75 6.75 6.75 6.75 6.5 6.5 6.5 6.5 6.25 6.25 6.25 6.25 6.25\n",
            " 6.25 6.25 6.25 6.25 6.25 6.5 6.5 6.75 6.75 6.75 6.75 6.75 6.75 6.5 6.5\n",
            " 6.25 6.25 6 6 5.65 5.65 5.4 5.4 5.4 5.4 5.4 4.65 4.65 4.25 4.25 4.25 4.25\n",
            " 4.25 4.25 4.25 4.25 4.25 4.25 4.25 4.25 4.25 4.25 4.25 4.25 4.25 4.25\n",
            " 4.25 4.25 4.25 4.25 4.25 4.25 4.65 5.15 5.15]\n"
          ]
        }
      ]
    },
    {
      "cell_type": "code",
      "source": [
        "reg.fit(x_train,y_train)"
      ],
      "metadata": {
        "colab": {
          "base_uri": "https://localhost:8080/"
        },
        "id": "mKoL-Fc7zMzE",
        "outputId": "a59dff5b-776a-43a1-fd2f-1dc6f28a1417"
      },
      "execution_count": null,
      "outputs": [
        {
          "output_type": "stream",
          "name": "stdout",
          "text": [
            "[06:57:18] WARNING: /workspace/src/objective/regression_obj.cu:152: reg:linear is now deprecated in favor of reg:squarederror.\n"
          ]
        },
        {
          "output_type": "execute_result",
          "data": {
            "text/plain": [
              "XGBRegressor()"
            ]
          },
          "metadata": {},
          "execution_count": 213
        }
      ]
    },
    {
      "cell_type": "code",
      "source": [
        "y_pred=reg.predict(x_test)"
      ],
      "metadata": {
        "id": "5uC5BGROzcv4"
      },
      "execution_count": null,
      "outputs": []
    },
    {
      "cell_type": "code",
      "source": [
        "import matplotlib.pyplot as plt\n",
        "plt.figure(figsize=(13,7))\n",
        "plt.plot(df4['observation_date'],y_test,color='blue',label=['Test'])\n",
        "plt.plot(df4['observation_date'],y_pred,color='red',label=['Predicted'])\n",
        "plt.xlabel('observation_date')\n",
        "plt.ylabel('Intrest_Rates')\n",
        "plt.legend(loc='lower right')"
      ],
      "metadata": {
        "colab": {
          "base_uri": "https://localhost:8080/",
          "height": 465
        },
        "id": "Lp14iRNz3HCT",
        "outputId": "224d790d-14a2-4002-b157-f5c1919ef844"
      },
      "execution_count": null,
      "outputs": [
        {
          "output_type": "execute_result",
          "data": {
            "text/plain": [
              "<matplotlib.legend.Legend at 0x7fec5ac3fc70>"
            ]
          },
          "metadata": {},
          "execution_count": 215
        },
        {
          "output_type": "display_data",
          "data": {
            "text/plain": [
              "<Figure size 936x504 with 1 Axes>"
            ],
            "image/png": "[encoded data removed]"
          },
          "metadata": {}
        }
      ]
    },
    {
      "cell_type": "code",
      "source": [
        "mean_squared_error(y_test,y_pred)"
      ],
      "metadata": {
        "colab": {
          "base_uri": "https://localhost:8080/"
        },
        "id": "X-zzzV9Mze3Z",
        "outputId": "4fc06a42-9746-4904-d36c-f3d6941ac5c5"
      },
      "execution_count": null,
      "outputs": [
        {
          "output_type": "execute_result",
          "data": {
            "text/plain": [
              "3.547816821353653"
            ]
          },
          "metadata": {},
          "execution_count": 216
        }
      ]
    },
    {
      "cell_type": "code",
      "source": [
        "from sklearn.metrics import r2_score\n",
        "r2_score(y_test,y_pred)"
      ],
      "metadata": {
        "colab": {
          "base_uri": "https://localhost:8080/"
        },
        "id": "hTpBzdsuz8L0",
        "outputId": "c7e306aa-4997-41dd-d73c-ec9a763b1c74"
      },
      "execution_count": null,
      "outputs": [
        {
          "output_type": "execute_result",
          "data": {
            "text/plain": [
              "-0.20445041401605257"
            ]
          },
          "metadata": {},
          "execution_count": 217
        }
      ]
    },
    {
      "cell_type": "code",
      "source": [],
      "metadata": {
        "id": "mtvp05uSA-Vd"
      },
      "execution_count": null,
      "outputs": []
    }
  ]
}